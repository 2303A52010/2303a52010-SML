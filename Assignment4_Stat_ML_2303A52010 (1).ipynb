{
  "cells": [
    {
      "cell_type": "markdown",
      "metadata": {
        "id": "Twly_E5WlGAc"
      },
      "source": [
        "# question 1"
      ]
    },
    {
      "cell_type": "markdown",
      "metadata": {
        "id": "AEQryR9Dciy1"
      },
      "source": [
        "# 1.Read the data with pandas and find features and target variables"
      ]
    },
    {
      "cell_type": "code",
      "execution_count": null,
      "metadata": {
        "colab": {
          "base_uri": "https://localhost:8080/"
        },
        "id": "jXkTe3EYVBJx",
        "outputId": "13d7e89c-3efa-449e-840f-d6e87ec530da"
      },
      "outputs": [
        {
          "name": "stdout",
          "output_type": "stream",
          "text": [
            "      battery_power  blue  clock_speed  dual_sim  fc  four_g  int_memory  \\\n",
            "0               842     0          2.2         0   1       0           7   \n",
            "1              1021     1          0.5         1   0       1          53   \n",
            "2               563     1          0.5         1   2       1          41   \n",
            "3               615     1          2.5         0   0       0          10   \n",
            "4              1821     1          1.2         0  13       1          44   \n",
            "...             ...   ...          ...       ...  ..     ...         ...   \n",
            "1995            794     1          0.5         1   0       1           2   \n",
            "1996           1965     1          2.6         1   0       0          39   \n",
            "1997           1911     0          0.9         1   1       1          36   \n",
            "1998           1512     0          0.9         0   4       1          46   \n",
            "1999            510     1          2.0         1   5       1          45   \n",
            "\n",
            "      m_dep  mobile_wt  n_cores  ...  px_height  px_width   ram  sc_h  sc_w  \\\n",
            "0       0.6        188        2  ...         20       756  2549     9     7   \n",
            "1       0.7        136        3  ...        905      1988  2631    17     3   \n",
            "2       0.9        145        5  ...       1263      1716  2603    11     2   \n",
            "3       0.8        131        6  ...       1216      1786  2769    16     8   \n",
            "4       0.6        141        2  ...       1208      1212  1411     8     2   \n",
            "...     ...        ...      ...  ...        ...       ...   ...   ...   ...   \n",
            "1995    0.8        106        6  ...       1222      1890   668    13     4   \n",
            "1996    0.2        187        4  ...        915      1965  2032    11    10   \n",
            "1997    0.7        108        8  ...        868      1632  3057     9     1   \n",
            "1998    0.1        145        5  ...        336       670   869    18    10   \n",
            "1999    0.9        168        6  ...        483       754  3919    19     4   \n",
            "\n",
            "      talk_time  three_g  touch_screen  wifi  price_range  \n",
            "0            19        0             0     1            1  \n",
            "1             7        1             1     0            2  \n",
            "2             9        1             1     0            2  \n",
            "3            11        1             0     0            2  \n",
            "4            15        1             1     0            1  \n",
            "...         ...      ...           ...   ...          ...  \n",
            "1995         19        1             1     0            0  \n",
            "1996         16        1             1     1            2  \n",
            "1997          5        1             1     0            3  \n",
            "1998         19        1             1     1            0  \n",
            "1999          2        1             1     1            3  \n",
            "\n",
            "[2000 rows x 21 columns]\n"
          ]
        }
      ],
      "source": [
        "import pandas as pd\n",
        "df = pd.read_csv('/content/train.csv')\n",
        "print(df)\n",
        "\n"
      ]
    },
    {
      "cell_type": "code",
      "execution_count": null,
      "metadata": {
        "colab": {
          "base_uri": "https://localhost:8080/"
        },
        "id": "26CBJelbYfuo",
        "outputId": "e249d2fb-5893-41f2-e256-740b6446fc2f"
      },
      "outputs": [
        {
          "name": "stdout",
          "output_type": "stream",
          "text": [
            "0       1\n",
            "1       2\n",
            "2       2\n",
            "3       2\n",
            "4       1\n",
            "       ..\n",
            "1995    0\n",
            "1996    2\n",
            "1997    3\n",
            "1998    0\n",
            "1999    3\n",
            "Name: price_range, Length: 2000, dtype: int64\n"
          ]
        }
      ],
      "source": [
        "y = df['price_range']\n",
        "print(y)\n"
      ]
    },
    {
      "cell_type": "code",
      "execution_count": null,
      "metadata": {
        "colab": {
          "base_uri": "https://localhost:8080/"
        },
        "id": "HaQ7g_5Yb9cv",
        "outputId": "2357f581-c40a-44eb-e9f0-89877b98559f"
      },
      "outputs": [
        {
          "name": "stdout",
          "output_type": "stream",
          "text": [
            "      battery_power  blue  clock_speed  dual_sim  fc  four_g  int_memory  \\\n",
            "0               842     0          2.2         0   1       0           7   \n",
            "1              1021     1          0.5         1   0       1          53   \n",
            "2               563     1          0.5         1   2       1          41   \n",
            "3               615     1          2.5         0   0       0          10   \n",
            "4              1821     1          1.2         0  13       1          44   \n",
            "...             ...   ...          ...       ...  ..     ...         ...   \n",
            "1995            794     1          0.5         1   0       1           2   \n",
            "1996           1965     1          2.6         1   0       0          39   \n",
            "1997           1911     0          0.9         1   1       1          36   \n",
            "1998           1512     0          0.9         0   4       1          46   \n",
            "1999            510     1          2.0         1   5       1          45   \n",
            "\n",
            "      m_dep  mobile_wt  n_cores  pc  px_height  px_width   ram  sc_h  sc_w  \\\n",
            "0       0.6        188        2   2         20       756  2549     9     7   \n",
            "1       0.7        136        3   6        905      1988  2631    17     3   \n",
            "2       0.9        145        5   6       1263      1716  2603    11     2   \n",
            "3       0.8        131        6   9       1216      1786  2769    16     8   \n",
            "4       0.6        141        2  14       1208      1212  1411     8     2   \n",
            "...     ...        ...      ...  ..        ...       ...   ...   ...   ...   \n",
            "1995    0.8        106        6  14       1222      1890   668    13     4   \n",
            "1996    0.2        187        4   3        915      1965  2032    11    10   \n",
            "1997    0.7        108        8   3        868      1632  3057     9     1   \n",
            "1998    0.1        145        5   5        336       670   869    18    10   \n",
            "1999    0.9        168        6  16        483       754  3919    19     4   \n",
            "\n",
            "      talk_time  three_g  touch_screen  wifi  \n",
            "0            19        0             0     1  \n",
            "1             7        1             1     0  \n",
            "2             9        1             1     0  \n",
            "3            11        1             0     0  \n",
            "4            15        1             1     0  \n",
            "...         ...      ...           ...   ...  \n",
            "1995         19        1             1     0  \n",
            "1996         16        1             1     1  \n",
            "1997          5        1             1     0  \n",
            "1998         19        1             1     1  \n",
            "1999          2        1             1     1  \n",
            "\n",
            "[2000 rows x 20 columns]\n"
          ]
        }
      ],
      "source": [
        "x = df.drop('price_range', axis=1)\n",
        "print(x)"
      ]
    },
    {
      "cell_type": "markdown",
      "metadata": {
        "id": "w3f9IIgAc3kk"
      },
      "source": [
        "# 2.Normalize the data with min-max scaling"
      ]
    },
    {
      "cell_type": "markdown",
      "metadata": {
        "id": "z_kN0n0glK1T"
      },
      "source": []
    },
    {
      "cell_type": "code",
      "execution_count": null,
      "metadata": {
        "colab": {
          "base_uri": "https://localhost:8080/"
        },
        "id": "caa0QLfYc8XE",
        "outputId": "f228e858-1949-400d-f550-4306ea02172e"
      },
      "outputs": [
        {
          "name": "stdout",
          "output_type": "stream",
          "text": [
            "      battery_power  blue  clock_speed  dual_sim    fc  four_g  int_memory  \\\n",
            "0        841.665331   0.0          2.0       0.0   1.0     0.0    6.967742   \n",
            "1       1020.665331   1.0          0.3       1.0   0.0     1.0   52.967742   \n",
            "2        562.665331   1.0          0.3       1.0   2.0     1.0   40.967742   \n",
            "3        614.665331   1.0          2.3       0.0   0.0     0.0    9.967742   \n",
            "4       1820.665331   1.0          1.0       0.0  13.0     1.0   43.967742   \n",
            "...             ...   ...          ...       ...   ...     ...         ...   \n",
            "1995     793.665331   1.0          0.3       1.0   0.0     1.0    1.967742   \n",
            "1996    1964.665331   1.0          2.4       1.0   0.0     0.0   38.967742   \n",
            "1997    1910.665331   0.0          0.7       1.0   1.0     1.0   35.967742   \n",
            "1998    1511.665331   0.0          0.7       0.0   4.0     1.0   45.967742   \n",
            "1999     509.665331   1.0          1.8       1.0   5.0     1.0   44.967742   \n",
            "\n",
            "         m_dep   mobile_wt   n_cores  ...  px_height     px_width  \\\n",
            "0     0.488889  187.333333  1.857143  ...       20.0   755.666222   \n",
            "1     0.588889  135.333333  2.857143  ...      905.0  1987.666222   \n",
            "2     0.788889  144.333333  4.857143  ...     1263.0  1715.666222   \n",
            "3     0.688889  130.333333  5.857143  ...     1216.0  1785.666222   \n",
            "4     0.488889  140.333333  1.857143  ...     1208.0  1211.666222   \n",
            "...        ...         ...       ...  ...        ...          ...   \n",
            "1995  0.688889  105.333333  5.857143  ...     1222.0  1889.666222   \n",
            "1996  0.088889  186.333333  3.857143  ...      915.0  1964.666222   \n",
            "1997  0.588889  107.333333  7.857143  ...      868.0  1631.666222   \n",
            "1998 -0.011111  144.333333  4.857143  ...      336.0   669.666222   \n",
            "1999  0.788889  167.333333  5.857143  ...      483.0   753.666222   \n",
            "\n",
            "              ram       sc_h  sc_w  talk_time  three_g  touch_screen  wifi  \\\n",
            "0     2548.931587   8.642857   7.0  18.888889      0.0           0.0   1.0   \n",
            "1     2630.931587  16.642857   3.0   6.888889      1.0           1.0   0.0   \n",
            "2     2602.931587  10.642857   2.0   8.888889      1.0           1.0   0.0   \n",
            "3     2768.931587  15.642857   8.0  10.888889      1.0           0.0   0.0   \n",
            "4     1410.931587   7.642857   2.0  14.888889      1.0           1.0   0.0   \n",
            "...           ...        ...   ...        ...      ...           ...   ...   \n",
            "1995   667.931587  12.642857   4.0  18.888889      1.0           1.0   0.0   \n",
            "1996  2031.931587  10.642857  10.0  15.888889      1.0           1.0   1.0   \n",
            "1997  3056.931587   8.642857   1.0   4.888889      1.0           1.0   0.0   \n",
            "1998   868.931587  17.642857  10.0  18.888889      1.0           1.0   1.0   \n",
            "1999  3918.931587  18.642857   4.0   1.888889      1.0           1.0   1.0   \n",
            "\n",
            "      price_range  \n",
            "0             1.0  \n",
            "1             2.0  \n",
            "2             2.0  \n",
            "3             2.0  \n",
            "4             1.0  \n",
            "...           ...  \n",
            "1995          0.0  \n",
            "1996          2.0  \n",
            "1997          3.0  \n",
            "1998          0.0  \n",
            "1999          3.0  \n",
            "\n",
            "[2000 rows x 21 columns]\n"
          ]
        }
      ],
      "source": [
        "q=df-df.min()/(df.max()-df.min())\n",
        "print(q)"
      ]
    },
    {
      "cell_type": "markdown",
      "metadata": {
        "id": "k4A18Pj3fRir"
      },
      "source": [
        "# 3.Split the data into train and test."
      ]
    },
    {
      "cell_type": "code",
      "execution_count": null,
      "metadata": {
        "colab": {
          "base_uri": "https://localhost:8080/"
        },
        "id": "1TngFBnWfa5b",
        "outputId": "6fb558f6-f738-4dca-97f7-2aeb5fa5873f"
      },
      "outputs": [
        {
          "name": "stdout",
          "output_type": "stream",
          "text": [
            "      battery_power  blue  clock_speed  dual_sim  fc  four_g  int_memory  \\\n",
            "237            1718     1          2.5         1  14       1           6   \n",
            "1405           1973     1          0.5         1   3       0          21   \n",
            "1961            672     1          0.6         1  13       0          61   \n",
            "923            1027     1          2.2         0   0       0          63   \n",
            "1567            940     0          2.9         0   0       0          16   \n",
            "...             ...   ...          ...       ...  ..     ...         ...   \n",
            "500            1278     1          0.5         1   1       0          54   \n",
            "1837            983     0          0.6         1   0       1          45   \n",
            "941             743     0          0.5         1   0       1          33   \n",
            "421            1178     0          2.2         1   6       0          57   \n",
            "1829           1065     0          1.7         1   4       1          48   \n",
            "\n",
            "      m_dep  mobile_wt  n_cores  pc  px_height  px_width   ram  sc_h  sc_w  \\\n",
            "237     0.1        183        5  16        564       980  3755     7     1   \n",
            "1405    0.8         95        8   7        127       507  1724    12    10   \n",
            "1961    0.1        194        5  20        724      1127  1457    14    10   \n",
            "923     0.8        102        5   4        152       714  1732     8     5   \n",
            "1567    0.7        115        4   1        499      1090  2192    15    13   \n",
            "...     ...        ...      ...  ..        ...       ...   ...   ...   ...   \n",
            "500     0.1        104        8  16        581       750  1155     7     1   \n",
            "1837    0.1        130        4  11        948      1205  2052     5     3   \n",
            "941     0.3         95        2   1       1587      1659   316    19    10   \n",
            "421     0.3         84        3  17         96      1352  2492    16    14   \n",
            "1829    0.3        162        6   8       1188      1948   265     8     0   \n",
            "\n",
            "      talk_time  three_g  touch_screen  wifi  \n",
            "237           8        1             1     1  \n",
            "1405          8        0             0     1  \n",
            "1961         20        1             0     1  \n",
            "923          13        0             1     1  \n",
            "1567          9        1             1     1  \n",
            "...         ...      ...           ...   ...  \n",
            "500          20        0             0     1  \n",
            "1837          6        1             0     1  \n",
            "941           4        1             0     0  \n",
            "421          10        1             1     0  \n",
            "1829         12        1             0     0  \n",
            "\n",
            "[1700 rows x 20 columns]\n",
            "      battery_power  blue  clock_speed  dual_sim  fc  four_g  int_memory  \\\n",
            "1856           1786     0          2.6         0   6       0          14   \n",
            "364             916     1          2.6         0   0       0          36   \n",
            "1948            748     0          1.4         0   0       0          25   \n",
            "1458           1368     0          0.5         0  10       1          42   \n",
            "609            1212     0          2.6         0   1       1          46   \n",
            "...             ...   ...          ...       ...  ..     ...         ...   \n",
            "814            1188     1          1.5         1   0       0          54   \n",
            "1219            984     0          0.5         1   3       1           9   \n",
            "969            1345     1          3.0         0   7       1          38   \n",
            "841             510     0          1.7         1   3       0          35   \n",
            "694            1310     0          1.4         0   0       0          33   \n",
            "\n",
            "      m_dep  mobile_wt  n_cores  pc  px_height  px_width   ram  sc_h  sc_w  \\\n",
            "1856    1.0        115        4  15        616       912  3038    18     0   \n",
            "364     0.3        195        4  12        188       992  1470    13     0   \n",
            "1948    1.0        110        7  14         88       709  1974    17     5   \n",
            "1458    0.2         91        1  20        907       925  1590    12     0   \n",
            "609     0.3        102        4   8        611      1715  2249    14     3   \n",
            "...     ...        ...      ...  ..        ...       ...   ...   ...   ...   \n",
            "814     0.3        198        6   2       1150      1469   485    12     7   \n",
            "1219    0.8        140        3  20        531       707   841    18    15   \n",
            "969     0.1        162        3  11        512      1465  1322     9     2   \n",
            "841     0.8        120        3   6        382      1228  2509    17     2   \n",
            "694     0.4        105        1  14        806      1016  1301    13    12   \n",
            "\n",
            "      talk_time  three_g  touch_screen  wifi  \n",
            "1856         14        1             0     0  \n",
            "364          14        0             1     0  \n",
            "1948         13        0             1     1  \n",
            "1458         14        1             0     0  \n",
            "609           4        1             1     1  \n",
            "...         ...      ...           ...   ...  \n",
            "814           7        0             1     0  \n",
            "1219         16        1             0     0  \n",
            "969          15        1             0     0  \n",
            "841          11        0             1     1  \n",
            "694          19        0             0     1  \n",
            "\n",
            "[300 rows x 20 columns]\n",
            "237     3\n",
            "1405    1\n",
            "1961    0\n",
            "923     1\n",
            "1567    1\n",
            "       ..\n",
            "500     0\n",
            "1837    1\n",
            "941     0\n",
            "421     2\n",
            "1829    0\n",
            "Name: price_range, Length: 1700, dtype: int64\n",
            "1856    3\n",
            "364     0\n",
            "1948    1\n",
            "1458    1\n",
            "609     2\n",
            "       ..\n",
            "814     0\n",
            "1219    0\n",
            "969     1\n",
            "841     1\n",
            "694     1\n",
            "Name: price_range, Length: 300, dtype: int64\n"
          ]
        }
      ],
      "source": [
        "from sklearn.model_selection import train_test_split\n",
        "x_train, x_test, y_train, y_test = train_test_split(x, y, test_size=0.15, random_state=30)\n",
        "print(x_train)\n",
        "print(x_test)\n",
        "print(y_train)\n",
        "print(y_test)\n"
      ]
    },
    {
      "cell_type": "markdown",
      "metadata": {
        "id": "-7NbWTirleQp"
      },
      "source": [
        "# question 02"
      ]
    },
    {
      "cell_type": "markdown",
      "metadata": {
        "id": "dv9dStc9ljJC"
      },
      "source": [
        "# Read the data with pandas and describe the data"
      ]
    },
    {
      "cell_type": "code",
      "execution_count": null,
      "metadata": {
        "colab": {
          "base_uri": "https://localhost:8080/"
        },
        "id": "zQZtShUdlism",
        "outputId": "851ba7be-04f7-40a3-b838-e2a9b412f43b"
      },
      "outputs": [
        {
          "name": "stdout",
          "output_type": "stream",
          "text": [
            "       longitude  latitude  housing_median_age  total_rooms  total_bedrooms  \\\n",
            "0        -114.31     34.19                15.0       5612.0          1283.0   \n",
            "1        -114.47     34.40                19.0       7650.0          1901.0   \n",
            "2        -114.56     33.69                17.0        720.0           174.0   \n",
            "3        -114.57     33.64                14.0       1501.0           337.0   \n",
            "4        -114.57     33.57                20.0       1454.0           326.0   \n",
            "...          ...       ...                 ...          ...             ...   \n",
            "16995    -124.26     40.58                52.0       2217.0           394.0   \n",
            "16996    -124.27     40.69                36.0       2349.0           528.0   \n",
            "16997    -124.30     41.84                17.0       2677.0           531.0   \n",
            "16998    -124.30     41.80                19.0       2672.0           552.0   \n",
            "16999    -124.35     40.54                52.0       1820.0           300.0   \n",
            "\n",
            "       population  households  median_income  median_house_value  \n",
            "0          1015.0       472.0         1.4936             66900.0  \n",
            "1          1129.0       463.0         1.8200             80100.0  \n",
            "2           333.0       117.0         1.6509             85700.0  \n",
            "3           515.0       226.0         3.1917             73400.0  \n",
            "4           624.0       262.0         1.9250             65500.0  \n",
            "...           ...         ...            ...                 ...  \n",
            "16995       907.0       369.0         2.3571            111400.0  \n",
            "16996      1194.0       465.0         2.5179             79000.0  \n",
            "16997      1244.0       456.0         3.0313            103600.0  \n",
            "16998      1298.0       478.0         1.9797             85800.0  \n",
            "16999       806.0       270.0         3.0147             94600.0  \n",
            "\n",
            "[17000 rows x 9 columns]\n",
            "          longitude      latitude  housing_median_age   total_rooms  \\\n",
            "count  17000.000000  17000.000000        17000.000000  17000.000000   \n",
            "mean    -119.562108     35.625225           28.589353   2643.664412   \n",
            "std        2.005166      2.137340           12.586937   2179.947071   \n",
            "min     -124.350000     32.540000            1.000000      2.000000   \n",
            "25%     -121.790000     33.930000           18.000000   1462.000000   \n",
            "50%     -118.490000     34.250000           29.000000   2127.000000   \n",
            "75%     -118.000000     37.720000           37.000000   3151.250000   \n",
            "max     -114.310000     41.950000           52.000000  37937.000000   \n",
            "\n",
            "       total_bedrooms    population    households  median_income  \\\n",
            "count    17000.000000  17000.000000  17000.000000   17000.000000   \n",
            "mean       539.410824   1429.573941    501.221941       3.883578   \n",
            "std        421.499452   1147.852959    384.520841       1.908157   \n",
            "min          1.000000      3.000000      1.000000       0.499900   \n",
            "25%        297.000000    790.000000    282.000000       2.566375   \n",
            "50%        434.000000   1167.000000    409.000000       3.544600   \n",
            "75%        648.250000   1721.000000    605.250000       4.767000   \n",
            "max       6445.000000  35682.000000   6082.000000      15.000100   \n",
            "\n",
            "       median_house_value  \n",
            "count        17000.000000  \n",
            "mean        207300.912353  \n",
            "std         115983.764387  \n",
            "min          14999.000000  \n",
            "25%         119400.000000  \n",
            "50%         180400.000000  \n",
            "75%         265000.000000  \n",
            "max         500001.000000  \n"
          ]
        }
      ],
      "source": [
        "import pandas as pd\n",
        "df = pd.read_csv('/content/sample_data/california_housing_train.csv')\n",
        "print(df)\n",
        "print(df.describe())"
      ]
    },
    {
      "cell_type": "markdown",
      "metadata": {
        "id": "fm_RzkWLmwvn"
      },
      "source": [
        "# Find data type and shape of each column"
      ]
    },
    {
      "cell_type": "code",
      "execution_count": null,
      "metadata": {
        "colab": {
          "base_uri": "https://localhost:8080/"
        },
        "id": "oYumEEPDnfQ_",
        "outputId": "3ac9d125-915f-42c6-d541-0c6ebe8a4be4"
      },
      "outputs": [
        {
          "name": "stdout",
          "output_type": "stream",
          "text": [
            "longitude             float64\n",
            "latitude              float64\n",
            "housing_median_age    float64\n",
            "total_rooms           float64\n",
            "total_bedrooms        float64\n",
            "population            float64\n",
            "households            float64\n",
            "median_income         float64\n",
            "median_house_value    float64\n",
            "dtype: object\n"
          ]
        }
      ],
      "source": [
        "print(df.dtypes)"
      ]
    },
    {
      "cell_type": "code",
      "execution_count": null,
      "metadata": {
        "colab": {
          "base_uri": "https://localhost:8080/"
        },
        "id": "ES9lxfgAn_z5",
        "outputId": "378a82d0-1ea5-42c2-a906-c1c6a6ffb27b"
      },
      "outputs": [
        {
          "name": "stdout",
          "output_type": "stream",
          "text": [
            "(17000, 9)\n"
          ]
        }
      ],
      "source": [
        "print(df.shape)"
      ]
    },
    {
      "cell_type": "markdown",
      "metadata": {
        "id": "gthLJaUhpQtp"
      },
      "source": [
        "# Find the target and features"
      ]
    },
    {
      "cell_type": "code",
      "execution_count": null,
      "metadata": {
        "colab": {
          "base_uri": "https://localhost:8080/"
        },
        "id": "VTqRl_udpgd5",
        "outputId": "d24f54f2-0639-41e9-dfbb-3288592b3784"
      },
      "outputs": [
        {
          "name": "stdout",
          "output_type": "stream",
          "text": [
            "       longitude  latitude  housing_median_age  total_rooms  total_bedrooms  \\\n",
            "0        -114.31     34.19                15.0       5612.0          1283.0   \n",
            "1        -114.47     34.40                19.0       7650.0          1901.0   \n",
            "2        -114.56     33.69                17.0        720.0           174.0   \n",
            "3        -114.57     33.64                14.0       1501.0           337.0   \n",
            "4        -114.57     33.57                20.0       1454.0           326.0   \n",
            "...          ...       ...                 ...          ...             ...   \n",
            "16995    -124.26     40.58                52.0       2217.0           394.0   \n",
            "16996    -124.27     40.69                36.0       2349.0           528.0   \n",
            "16997    -124.30     41.84                17.0       2677.0           531.0   \n",
            "16998    -124.30     41.80                19.0       2672.0           552.0   \n",
            "16999    -124.35     40.54                52.0       1820.0           300.0   \n",
            "\n",
            "       population  households  median_income  \n",
            "0          1015.0       472.0         1.4936  \n",
            "1          1129.0       463.0         1.8200  \n",
            "2           333.0       117.0         1.6509  \n",
            "3           515.0       226.0         3.1917  \n",
            "4           624.0       262.0         1.9250  \n",
            "...           ...         ...            ...  \n",
            "16995       907.0       369.0         2.3571  \n",
            "16996      1194.0       465.0         2.5179  \n",
            "16997      1244.0       456.0         3.0313  \n",
            "16998      1298.0       478.0         1.9797  \n",
            "16999       806.0       270.0         3.0147  \n",
            "\n",
            "[17000 rows x 8 columns]\n"
          ]
        }
      ],
      "source": [
        "a=df['median_house_value']\n",
        "print(a)"
      ]
    },
    {
      "cell_type": "code",
      "execution_count": null,
      "metadata": {
        "colab": {
          "base_uri": "https://localhost:8080/"
        },
        "id": "ubvhdfRup3wF",
        "outputId": "d9ed7f93-1d1b-4720-c368-e339ffa32f61"
      },
      "outputs": [
        {
          "name": "stdout",
          "output_type": "stream",
          "text": [
            "       longitude  latitude  housing_median_age  total_rooms  total_bedrooms  \\\n",
            "0        -114.31     34.19                15.0       5612.0          1283.0   \n",
            "1        -114.47     34.40                19.0       7650.0          1901.0   \n",
            "2        -114.56     33.69                17.0        720.0           174.0   \n",
            "3        -114.57     33.64                14.0       1501.0           337.0   \n",
            "4        -114.57     33.57                20.0       1454.0           326.0   \n",
            "...          ...       ...                 ...          ...             ...   \n",
            "16995    -124.26     40.58                52.0       2217.0           394.0   \n",
            "16996    -124.27     40.69                36.0       2349.0           528.0   \n",
            "16997    -124.30     41.84                17.0       2677.0           531.0   \n",
            "16998    -124.30     41.80                19.0       2672.0           552.0   \n",
            "16999    -124.35     40.54                52.0       1820.0           300.0   \n",
            "\n",
            "       population  households  median_income  \n",
            "0          1015.0       472.0         1.4936  \n",
            "1          1129.0       463.0         1.8200  \n",
            "2           333.0       117.0         1.6509  \n",
            "3           515.0       226.0         3.1917  \n",
            "4           624.0       262.0         1.9250  \n",
            "...           ...         ...            ...  \n",
            "16995       907.0       369.0         2.3571  \n",
            "16996      1194.0       465.0         2.5179  \n",
            "16997      1244.0       456.0         3.0313  \n",
            "16998      1298.0       478.0         1.9797  \n",
            "16999       806.0       270.0         3.0147  \n",
            "\n",
            "[17000 rows x 8 columns]\n"
          ]
        }
      ],
      "source": [
        "b=df.drop('median_house_value', axis=1)\n",
        "print(k)"
      ]
    },
    {
      "cell_type": "markdown",
      "metadata": {
        "id": "6ccU8P5bqC4p"
      },
      "source": [
        "# Find the null values (if yes fill the null values with ‘0’ or mean of that column)"
      ]
    },
    {
      "cell_type": "code",
      "execution_count": null,
      "metadata": {
        "colab": {
          "base_uri": "https://localhost:8080/"
        },
        "id": "zV3icdvsqFtA",
        "outputId": "cd2859b8-481e-4fc9-c428-60b0583a8be6"
      },
      "outputs": [
        {
          "name": "stdout",
          "output_type": "stream",
          "text": [
            "longitude             0\n",
            "latitude              0\n",
            "housing_median_age    0\n",
            "total_rooms           0\n",
            "total_bedrooms        0\n",
            "population            0\n",
            "households            0\n",
            "median_income         0\n",
            "median_house_value    0\n",
            "dtype: int64\n"
          ]
        }
      ],
      "source": [
        "print(df.isnull().sum())"
      ]
    },
    {
      "cell_type": "markdown",
      "metadata": {
        "id": "shiyDFvJqiUk"
      },
      "source": [
        "# Normalize all the features"
      ]
    },
    {
      "cell_type": "code",
      "execution_count": null,
      "metadata": {
        "colab": {
          "base_uri": "https://localhost:8080/"
        },
        "id": "0Ev1JmqKqoi1",
        "outputId": "14476ce8-7133-4819-b96b-185e091e51c4"
      },
      "outputs": [
        {
          "name": "stdout",
          "output_type": "stream",
          "text": [
            "        longitude   latitude  housing_median_age  total_rooms  total_bedrooms  \\\n",
            "0     -101.924542  30.731977           14.980392  5611.999947     1282.999845   \n",
            "1     -102.084542  30.941977           18.980392  7649.999947     1900.999845   \n",
            "2     -102.174542  30.231977           16.980392   719.999947      173.999845   \n",
            "3     -102.184542  30.181977           13.980392  1500.999947      336.999845   \n",
            "4     -102.184542  30.111977           19.980392  1453.999947      325.999845   \n",
            "...           ...        ...                 ...          ...             ...   \n",
            "16995 -111.874542  37.121977           51.980392  2216.999947      393.999845   \n",
            "16996 -111.884542  37.231977           35.980392  2348.999947      527.999845   \n",
            "16997 -111.914542  38.381977           16.980392  2676.999947      530.999845   \n",
            "16998 -111.914542  38.341977           18.980392  2671.999947      551.999845   \n",
            "16999 -111.964542  37.081977           51.980392  1819.999947      299.999845   \n",
            "\n",
            "        population  households  median_income  median_house_value  \n",
            "0      1014.999916  471.999836       1.459125        66899.969074  \n",
            "1      1128.999916  462.999836       1.785525        80099.969074  \n",
            "2       332.999916  116.999836       1.616425        85699.969074  \n",
            "3       514.999916  225.999836       3.157225        73399.969074  \n",
            "4       623.999916  261.999836       1.890525        65499.969074  \n",
            "...            ...         ...            ...                 ...  \n",
            "16995   906.999916  368.999836       2.322625       111399.969074  \n",
            "16996  1193.999916  464.999836       2.483425        78999.969074  \n",
            "16997  1243.999916  455.999836       2.996825       103599.969074  \n",
            "16998  1297.999916  477.999836       1.945225        85799.969074  \n",
            "16999   805.999916  269.999836       2.980225        94599.969074  \n",
            "\n",
            "[17000 rows x 9 columns]\n"
          ]
        }
      ],
      "source": [
        "q=df-df.min()/(df.max()-df.min())\n",
        "print(q)"
      ]
    },
    {
      "cell_type": "markdown",
      "metadata": {
        "id": "JtJYZIJ5q5QX"
      },
      "source": [
        "# Split the data into train and test."
      ]
    },
    {
      "cell_type": "code",
      "execution_count": null,
      "metadata": {
        "colab": {
          "base_uri": "https://localhost:8080/"
        },
        "id": "oJSlG-lIq7xV",
        "outputId": "5290c78d-6c61-4ecf-9c6c-29266f788b15"
      },
      "outputs": [
        {
          "name": "stdout",
          "output_type": "stream",
          "text": [
            "1123     238300.0\n",
            "13704    135600.0\n",
            "252      125200.0\n",
            "92        97200.0\n",
            "12205     65600.0\n",
            "           ...   \n",
            "500      154600.0\n",
            "12077     93800.0\n",
            "15277    235600.0\n",
            "4517     338800.0\n",
            "5925     186800.0\n",
            "Name: median_house_value, Length: 14450, dtype: float64\n",
            "10914    127500.0\n",
            "6241     261300.0\n",
            "5904     192700.0\n",
            "9578      62000.0\n",
            "9444     396400.0\n",
            "           ...   \n",
            "10976    102500.0\n",
            "7734     268600.0\n",
            "5476     127100.0\n",
            "579      148300.0\n",
            "16173    366300.0\n",
            "Name: median_house_value, Length: 2550, dtype: float64\n",
            "       longitude  latitude  housing_median_age  total_rooms  total_bedrooms  \\\n",
            "1123     -117.12     32.96                15.0       2869.0           405.0   \n",
            "13704    -122.00     38.36                34.0       1502.0           282.0   \n",
            "252      -116.53     33.88                 5.0       4423.0           763.0   \n",
            "92       -115.57     32.78                20.0       1534.0           235.0   \n",
            "12205    -121.46     38.52                34.0       1279.0           285.0   \n",
            "...          ...       ...                 ...          ...             ...   \n",
            "500      -116.99     32.83                20.0       6696.0          1326.0   \n",
            "12077    -121.43     39.18                36.0       1124.0           184.0   \n",
            "15277    -122.28     37.88                52.0       1172.0           215.0   \n",
            "4517     -118.04     33.76                16.0       2070.0           263.0   \n",
            "5925     -118.21     34.10                47.0       5077.0          1271.0   \n",
            "\n",
            "       population  households  median_income  \n",
            "1123       1526.0       402.0         6.0175  \n",
            "13704       860.0       297.0         3.3438  \n",
            "252        1906.0       667.0         4.6855  \n",
            "92          871.0       222.0         6.2715  \n",
            "12205       963.0       268.0         2.7100  \n",
            "...           ...         ...            ...  \n",
            "500        3687.0      1291.0         3.1979  \n",
            "12077       504.0       171.0         2.1667  \n",
            "15277       489.0       218.0         3.9167  \n",
            "4517        878.0       297.0         7.0879  \n",
            "5925       3348.0      1106.0         3.0377  \n",
            "\n",
            "[14450 rows x 8 columns]\n",
            "       longitude  latitude  housing_median_age  total_rooms  total_bedrooms  \\\n",
            "10914    -120.85     37.51                 5.0       2899.0           745.0   \n",
            "6241     -118.25     34.23                37.0       1954.0           368.0   \n",
            "5904     -118.20     33.79                47.0       2549.0           626.0   \n",
            "9578     -119.35     36.52                39.0       3027.0           608.0   \n",
            "9444     -119.25     34.30                34.0       1189.0           220.0   \n",
            "...          ...       ...                 ...          ...             ...   \n",
            "10976    -120.92     40.02                35.0        383.0            92.0   \n",
            "7734     -118.38     34.02                45.0       2098.0           486.0   \n",
            "5476     -118.16     33.91                28.0       2922.0           739.0   \n",
            "579      -117.02     32.84                17.0       4013.0           673.0   \n",
            "16173    -122.47     37.75                49.0       2747.0           472.0   \n",
            "\n",
            "       population  households  median_income  \n",
            "10914      1593.0       633.0         2.2292  \n",
            "6241        967.0       370.0         5.0862  \n",
            "5904       1388.0       606.0         3.0135  \n",
            "9578       2199.0       592.0         2.6445  \n",
            "9444        445.0       203.0         4.8824  \n",
            "...           ...         ...            ...  \n",
            "10976       202.0        72.0         2.6458  \n",
            "7734       1343.0       481.0         3.9615  \n",
            "5476       3013.0       673.0         2.9531  \n",
            "579        2263.0       661.0         5.1310  \n",
            "16173      1281.0       448.0         5.4820  \n",
            "\n",
            "[2550 rows x 8 columns]\n"
          ]
        }
      ],
      "source": [
        "from sklearn.model_selection import train_test_split\n",
        "a_train, a_test, b_train, b_test = train_test_split(a, b, test_size=0.15, random_state=30)\n",
        "print(a_train)\n",
        "print(a_test)\n",
        "print(b_train)\n",
        "print(b_test)"
      ]
    }
  ],
  "metadata": {
    "colab": {
      "provenance": []
    },
    "kernelspec": {
      "display_name": "Python 3",
      "name": "python3"
    },
    "language_info": {
      "name": "python"
    }
  },
  "nbformat": 4,
  "nbformat_minor": 0
}
