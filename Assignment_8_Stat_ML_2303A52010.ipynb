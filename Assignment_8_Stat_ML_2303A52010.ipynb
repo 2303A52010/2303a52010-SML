{
  "nbformat": 4,
  "nbformat_minor": 0,
  "metadata": {
    "colab": {
      "provenance": []
    },
    "kernelspec": {
      "name": "python3",
      "display_name": "Python 3"
    },
    "language_info": {
      "name": "python"
    }
  },
  "cells": [
    {
      "cell_type": "markdown",
      "source": [
        "# QUESTION : 1"
      ],
      "metadata": {
        "id": "bUwpOZ8BQb4A"
      }
    },
    {
      "cell_type": "code",
      "source": [
        "import pandas as pd\n",
        "import numpy as np\n",
        "from sklearn.model_selection import train_test_split\n",
        "from sklearn.linear_model import LogisticRegression\n",
        "from sklearn.metrics import accuracy_score, classification_report"
      ],
      "metadata": {
        "id": "hu797SGAQaqP"
      },
      "execution_count": null,
      "outputs": []
    },
    {
      "cell_type": "code",
      "source": [
        "data = {\n",
        "    'X1': [10, 5, 15, 2, 12, 8, 14, 3, 11, 6],\n",
        "    'X2': [90, 60, 95, 30, 85, 75, 92, 50, 88, 65],\n",
        "    'X3': [85, 70, 90, 50, 88, 65, 93, 55, 80, 60],\n",
        "    'X4': [1, 0, 1, 0, 1, 0, 1, 0, 1, 0],\n",
        "    'X5': [100, 80, 100, 40, 90, 70, 95, 60, 85, 75],\n",
        "    'Pass/Fail': [1, 0, 1, 0, 1, 0, 1, 0, 1, 0]\n",
        "}"
      ],
      "metadata": {
        "id": "PhtCh2opQh0F"
      },
      "execution_count": null,
      "outputs": []
    },
    {
      "cell_type": "code",
      "source": [
        "df = pd.DataFrame(data)\n",
        "\n",
        "X = df.drop('Pass/Fail', axis=1)\n",
        "y = df['Pass/Fail']\n",
        "\n",
        "X_train, X_test, y_train, y_test = train_test_split(X, y, test_size=0.2, random_state=42)"
      ],
      "metadata": {
        "id": "0mZrRrGqQjXr"
      },
      "execution_count": null,
      "outputs": []
    },
    {
      "cell_type": "code",
      "source": [
        "model = LogisticRegression()\n",
        "model.fit(X_train, y_train)"
      ],
      "metadata": {
        "colab": {
          "base_uri": "https://localhost:8080/",
          "height": 74
        },
        "id": "Ynxy8XW4QlTo",
        "outputId": "6d8cfe58-0607-4160-e4b5-75c02c619e5b"
      },
      "execution_count": null,
      "outputs": [
        {
          "output_type": "execute_result",
          "data": {
            "text/plain": [
              "LogisticRegression()"
            ],
            "text/html": [
              "<style>#sk-container-id-1 {color: black;}#sk-container-id-1 pre{padding: 0;}#sk-container-id-1 div.sk-toggleable {background-color: white;}#sk-container-id-1 label.sk-toggleable__label {cursor: pointer;display: block;width: 100%;margin-bottom: 0;padding: 0.3em;box-sizing: border-box;text-align: center;}#sk-container-id-1 label.sk-toggleable__label-arrow:before {content: \"▸\";float: left;margin-right: 0.25em;color: #696969;}#sk-container-id-1 label.sk-toggleable__label-arrow:hover:before {color: black;}#sk-container-id-1 div.sk-estimator:hover label.sk-toggleable__label-arrow:before {color: black;}#sk-container-id-1 div.sk-toggleable__content {max-height: 0;max-width: 0;overflow: hidden;text-align: left;background-color: #f0f8ff;}#sk-container-id-1 div.sk-toggleable__content pre {margin: 0.2em;color: black;border-radius: 0.25em;background-color: #f0f8ff;}#sk-container-id-1 input.sk-toggleable__control:checked~div.sk-toggleable__content {max-height: 200px;max-width: 100%;overflow: auto;}#sk-container-id-1 input.sk-toggleable__control:checked~label.sk-toggleable__label-arrow:before {content: \"▾\";}#sk-container-id-1 div.sk-estimator input.sk-toggleable__control:checked~label.sk-toggleable__label {background-color: #d4ebff;}#sk-container-id-1 div.sk-label input.sk-toggleable__control:checked~label.sk-toggleable__label {background-color: #d4ebff;}#sk-container-id-1 input.sk-hidden--visually {border: 0;clip: rect(1px 1px 1px 1px);clip: rect(1px, 1px, 1px, 1px);height: 1px;margin: -1px;overflow: hidden;padding: 0;position: absolute;width: 1px;}#sk-container-id-1 div.sk-estimator {font-family: monospace;background-color: #f0f8ff;border: 1px dotted black;border-radius: 0.25em;box-sizing: border-box;margin-bottom: 0.5em;}#sk-container-id-1 div.sk-estimator:hover {background-color: #d4ebff;}#sk-container-id-1 div.sk-parallel-item::after {content: \"\";width: 100%;border-bottom: 1px solid gray;flex-grow: 1;}#sk-container-id-1 div.sk-label:hover label.sk-toggleable__label {background-color: #d4ebff;}#sk-container-id-1 div.sk-serial::before {content: \"\";position: absolute;border-left: 1px solid gray;box-sizing: border-box;top: 0;bottom: 0;left: 50%;z-index: 0;}#sk-container-id-1 div.sk-serial {display: flex;flex-direction: column;align-items: center;background-color: white;padding-right: 0.2em;padding-left: 0.2em;position: relative;}#sk-container-id-1 div.sk-item {position: relative;z-index: 1;}#sk-container-id-1 div.sk-parallel {display: flex;align-items: stretch;justify-content: center;background-color: white;position: relative;}#sk-container-id-1 div.sk-item::before, #sk-container-id-1 div.sk-parallel-item::before {content: \"\";position: absolute;border-left: 1px solid gray;box-sizing: border-box;top: 0;bottom: 0;left: 50%;z-index: -1;}#sk-container-id-1 div.sk-parallel-item {display: flex;flex-direction: column;z-index: 1;position: relative;background-color: white;}#sk-container-id-1 div.sk-parallel-item:first-child::after {align-self: flex-end;width: 50%;}#sk-container-id-1 div.sk-parallel-item:last-child::after {align-self: flex-start;width: 50%;}#sk-container-id-1 div.sk-parallel-item:only-child::after {width: 0;}#sk-container-id-1 div.sk-dashed-wrapped {border: 1px dashed gray;margin: 0 0.4em 0.5em 0.4em;box-sizing: border-box;padding-bottom: 0.4em;background-color: white;}#sk-container-id-1 div.sk-label label {font-family: monospace;font-weight: bold;display: inline-block;line-height: 1.2em;}#sk-container-id-1 div.sk-label-container {text-align: center;}#sk-container-id-1 div.sk-container {/* jupyter's `normalize.less` sets `[hidden] { display: none; }` but bootstrap.min.css set `[hidden] { display: none !important; }` so we also need the `!important` here to be able to override the default hidden behavior on the sphinx rendered scikit-learn.org. See: https://github.com/scikit-learn/scikit-learn/issues/21755 */display: inline-block !important;position: relative;}#sk-container-id-1 div.sk-text-repr-fallback {display: none;}</style><div id=\"sk-container-id-1\" class=\"sk-top-container\"><div class=\"sk-text-repr-fallback\"><pre>LogisticRegression()</pre><b>In a Jupyter environment, please rerun this cell to show the HTML representation or trust the notebook. <br />On GitHub, the HTML representation is unable to render, please try loading this page with nbviewer.org.</b></div><div class=\"sk-container\" hidden><div class=\"sk-item\"><div class=\"sk-estimator sk-toggleable\"><input class=\"sk-toggleable__control sk-hidden--visually\" id=\"sk-estimator-id-1\" type=\"checkbox\" checked><label for=\"sk-estimator-id-1\" class=\"sk-toggleable__label sk-toggleable__label-arrow\">LogisticRegression</label><div class=\"sk-toggleable__content\"><pre>LogisticRegression()</pre></div></div></div></div></div>"
            ]
          },
          "metadata": {},
          "execution_count": 4
        }
      ]
    },
    {
      "cell_type": "code",
      "source": [
        "y_pred = model.predict(X_test)\n",
        "\n",
        "accuracy = accuracy_score(y_test, y_pred)\n",
        "classification_report_result = classification_report(y_test, y_pred)\n",
        "print(f\"Accuracy: {accuracy:.2f}\")"
      ],
      "metadata": {
        "colab": {
          "base_uri": "https://localhost:8080/"
        },
        "id": "wocwTfxNQm9-",
        "outputId": "e3638b83-7b38-4bd7-b7e4-cff2c93ed35b"
      },
      "execution_count": null,
      "outputs": [
        {
          "output_type": "stream",
          "name": "stdout",
          "text": [
            "Accuracy: 1.00\n"
          ]
        }
      ]
    },
    {
      "cell_type": "code",
      "source": [
        "print(\"Logistic Regression Model Results:\")\n",
        "print(f\"Accuracy: {accuracy * 100:.2f}%\")\n",
        "print(\"\\nClassification Report:\\n\", classification_report_result)\n",
        "for i in range(len(y_test)):\n",
        "    print(f\"Actual: {y_test.iloc[i]}, Predicted: {y_pred[i]}\")\n",
        "    print(\"-\" * 30)\n",
        "    print()\n",
        "print(\"\\nModel Coefficients:\")\n",
        "for feature, coef in zip([\"X1\", \"X2\", \"X3\", \"X4\", \"X5\"], model.coef_[0]):\n",
        "    print(f\"{feature}: {coef:.4f}\")"
      ],
      "metadata": {
        "colab": {
          "base_uri": "https://localhost:8080/"
        },
        "id": "xMp2MBDDQo0N",
        "outputId": "5724cfcb-acbb-4578-d228-d2025d21732e"
      },
      "execution_count": null,
      "outputs": [
        {
          "output_type": "stream",
          "name": "stdout",
          "text": [
            "Logistic Regression Model Results:\n",
            "Accuracy: 100.00%\n",
            "\n",
            "Classification Report:\n",
            "               precision    recall  f1-score   support\n",
            "\n",
            "           0       1.00      1.00      1.00         1\n",
            "           1       1.00      1.00      1.00         1\n",
            "\n",
            "    accuracy                           1.00         2\n",
            "   macro avg       1.00      1.00      1.00         2\n",
            "weighted avg       1.00      1.00      1.00         2\n",
            "\n",
            "Actual: 1, Predicted: 1\n",
            "------------------------------\n",
            "\n",
            "Actual: 0, Predicted: 0\n",
            "------------------------------\n",
            "\n",
            "\n",
            "Model Coefficients:\n",
            "X1: 0.0379\n",
            "X2: 0.1176\n",
            "X3: 0.2115\n",
            "X4: 0.0088\n",
            "X5: 0.1849\n"
          ]
        }
      ]
    },
    {
      "cell_type": "markdown",
      "source": [
        "# QUESTION :2"
      ],
      "metadata": {
        "id": "sJh67pu2QWqn"
      }
    },
    {
      "cell_type": "code",
      "source": [
        "import numpy as np\n",
        "import pandas as pd\n",
        "import sklearn\n",
        "from sklearn.linear_model import LogisticRegression"
      ],
      "metadata": {
        "id": "5EJishpCi9Z4"
      },
      "execution_count": null,
      "outputs": []
    },
    {
      "cell_type": "code",
      "source": [
        "data2 = pd.read_csv('/content/diabetes_data_upload.csv')\n",
        "data2.head()"
      ],
      "metadata": {
        "id": "tZLck2BzhCgW"
      },
      "execution_count": null,
      "outputs": []
    },
    {
      "cell_type": "markdown",
      "source": [
        "*Calling out the Variables and declaring the target-variable.*"
      ],
      "metadata": {
        "id": "Ppmoax7XjduJ"
      }
    },
    {
      "cell_type": "code",
      "source": [
        "x0 = 1\n",
        "x1 = data2['Age']\n",
        "x2 = data2['Gender']\n",
        "x3 = data2['Polyuria']\n",
        "x4 = data2['Polydipsia']\n",
        "x5 = data2['sudden weight loss']\n",
        "x6 = data2['weakness']\n",
        "x7 = data2['Polyphagia']\n",
        "x8 = data2['Genital thrush']\n",
        "x9 = data2['visual blurring']\n",
        "x10 = data2['Itching']\n",
        "x11 = data2['Irritability']\n",
        "x12 = data2['delayed healing']\n",
        "x13 = data2['partial paresis']\n",
        "x14 = data2['muscle stiffness']\n",
        "x15 = data2['Alopecia']\n",
        "x16 = data2['Obesity']\n",
        "\n",
        "#TARGET VARIABLE.\n",
        "y = data2['class']"
      ],
      "metadata": {
        "id": "SSzZ7w7jjiCm"
      },
      "execution_count": null,
      "outputs": []
    },
    {
      "cell_type": "markdown",
      "source": [
        "*Mapping the variables and target-variable.*"
      ],
      "metadata": {
        "id": "dw9foJE2ksDE"
      }
    },
    {
      "cell_type": "code",
      "source": [
        "\n",
        "x2 = x2.map({'Male': 1, 'Female': 0})\n",
        "x3 = x3.map({'Yes': 1, 'No': 0})\n",
        "x4 = x4.map({'Yes': 1, 'No': 0})\n",
        "x5 = x5.map({'Yes': 1, 'No': 0})\n",
        "x6 = x6.map({'Yes': 1, 'No': 0})\n",
        "x7 = x7.map({'Yes': 1, 'No': 0})\n",
        "x8 = x8.map({'Yes': 1, 'No': 0})\n",
        "x9 = x9.map({'Yes': 1, 'No': 0})\n",
        "x10 = x10.map({'Yes': 1, 'No': 0})\n",
        "x11 = x11.map({'Yes': 1, 'No': 0})\n",
        "x12 = x12.map({'Yes': 1, 'No': 0})\n",
        "x13 = x13.map({'Yes': 1, 'No': 0})\n",
        "x14 = x14.map({'Yes': 1, 'No': 0})\n",
        "x15 = x15.map({'Yes': 1, 'No': 0})\n",
        "x16 = x16.map({'Yes': 1, 'No': 0})\n",
        "\n",
        "y = y.map({'Positive': 1, 'Negative': 0})"
      ],
      "metadata": {
        "id": "n73e0H2Ikrkw"
      },
      "execution_count": null,
      "outputs": []
    },
    {
      "cell_type": "code",
      "source": [
        "X = np.array(list(zip(x1, x2, x3, x4, x5, x6, x7, x8, x9, x10, x11, x12, x13, x14, x15, x16)))\n",
        "Y = np.array(y)"
      ],
      "metadata": {
        "id": "h7fslikOpOGX"
      },
      "execution_count": null,
      "outputs": []
    },
    {
      "cell_type": "markdown",
      "source": [
        "*Training and Testing the data*"
      ],
      "metadata": {
        "id": "0-JBXJ8CqU2Z"
      }
    },
    {
      "cell_type": "code",
      "source": [
        "from sklearn.model_selection import train_test_split\n",
        "X_train, X_test, Y_train, Y_test = train_test_split(X, Y, test_size = 0.2, random_state = 0)"
      ],
      "metadata": {
        "id": "JTe0z1xEqerq"
      },
      "execution_count": null,
      "outputs": []
    },
    {
      "cell_type": "code",
      "source": [
        "X_train"
      ],
      "metadata": {
        "id": "VvadlH5Mt0ew"
      },
      "execution_count": null,
      "outputs": []
    },
    {
      "cell_type": "code",
      "source": [
        "X_test"
      ],
      "metadata": {
        "id": "D8FuNnDst4yc"
      },
      "execution_count": null,
      "outputs": []
    },
    {
      "cell_type": "code",
      "source": [
        "Y_train"
      ],
      "metadata": {
        "id": "wLHsWrVtt-Q2"
      },
      "execution_count": null,
      "outputs": []
    },
    {
      "cell_type": "code",
      "source": [
        "Y_test"
      ],
      "metadata": {
        "id": "F_T1VC_nuBx1"
      },
      "execution_count": null,
      "outputs": []
    },
    {
      "cell_type": "markdown",
      "source": [
        "*Initializing the Logistic-Regression Model*"
      ],
      "metadata": {
        "id": "0M1V4p_vq0KK"
      }
    },
    {
      "cell_type": "code",
      "source": [
        "lo_r = LogisticRegression()"
      ],
      "metadata": {
        "id": "yyQc00jaq4Wj"
      },
      "execution_count": null,
      "outputs": []
    },
    {
      "cell_type": "markdown",
      "source": [
        "*Fitting the training value for X and Y*"
      ],
      "metadata": {
        "id": "KXJXQuKErI5P"
      }
    },
    {
      "cell_type": "code",
      "source": [
        "lo_r.fit(X_train, Y_train)"
      ],
      "metadata": {
        "id": "8Xg5EGzHrODB"
      },
      "execution_count": null,
      "outputs": []
    },
    {
      "cell_type": "markdown",
      "source": [
        "*Predict using the trained model on the test data*"
      ],
      "metadata": {
        "id": "syTREr6yrszX"
      }
    },
    {
      "cell_type": "code",
      "source": [
        "yp = lo_r.predict(X_test)"
      ],
      "metadata": {
        "id": "zJRnHLonrwHI"
      },
      "execution_count": null,
      "outputs": []
    },
    {
      "cell_type": "markdown",
      "source": [
        "*Calculate accuracy on the test dataset*"
      ],
      "metadata": {
        "id": "5udEUaLus32F"
      }
    },
    {
      "source": [
        "corr_pred = 0\n",
        "for i in range(len(Y_test)):\n",
        "  if Y_test[i] == yp[i]:\n",
        "    corr_pred += 1\n",
        "\n",
        "accuracy = corr_pred / len(Y_test)*100\n",
        "print(accuracy)"
      ],
      "cell_type": "code",
      "metadata": {
        "id": "KX1myggHtY4O"
      },
      "execution_count": null,
      "outputs": []
    }
  ]
}